{
 "cells": [
  {
   "cell_type": "code",
   "execution_count": 1,
   "metadata": {},
   "outputs": [],
   "source": [
    "import numpy as np\n",
    "import rasterio as rio\n",
    "from pathlib import Path\n",
    "from rasterio.features import sieve\n",
    "from matplotlib import pyplot as plt\n",
    "import fiona\n",
    "from rasterio.mask import mask as rio_mask"
   ]
  },
  {
   "cell_type": "code",
   "execution_count": 2,
   "metadata": {},
   "outputs": [],
   "source": [
    "img_path = Path(\"D:\\pixxel\\EO1H1480472016328110PZ_1GST\\QUAC\\QUAC_ready.tif\")\n",
    "img_d = Path(\"clipped_int1.tif\")\n",
    "img_m = Path(\"clipped_org.tif\")\n",
    "shp_path = Path(r\"D:\\pixxel\\roi\\ref.shp\")"
   ]
  },
  {
   "cell_type": "code",
   "execution_count": 3,
   "metadata": {},
   "outputs": [],
   "source": [
    "with rio.open(img_path, 'r') as src:\n",
    "    meta = src.meta.copy()\n",
    "    meta['dtype'] = np.int32\n",
    "    with rio.open(img_d, 'w', **meta) as dst:\n",
    "        dst.write(src.read().astype(np.int32))"
   ]
  },
  {
   "cell_type": "code",
   "execution_count": 4,
   "metadata": {},
   "outputs": [],
   "source": [
    "def generate_masked_image(imgfile, out_img=None, current_nd=0, target_nd=-1, size=500):\n",
    "    with rio.open(imgfile, 'r') as src:\n",
    "        meta = src.meta.copy()\n",
    "        img_array = src.read(masked=False)\n",
    "        mask = img_array == current_nd\n",
    "        mask =  mask.all(axis=0)\n",
    "        # plt.imshow(mask)\n",
    "        # plt.show()\n",
    "        # mask = np.stack((mask for i in range(img_array.shape[0])), axis=0)\n",
    "        mask =  np.iinfo(np.uint8).max * ((np.logical_not(mask)).astype(np.uint8))\n",
    "        mask = sieve(mask, size=size)\n",
    "        \n",
    "        mask = np.logical_not(mask.astype(bool))\n",
    "        mask = np.stack([mask for i in range(img_array.shape[0])], axis=0)\n",
    "        img_array[mask] = target_nd\n",
    "        meta['nodata'] = target_nd\n",
    "    if out_img is None:\n",
    "        out_img = imgfile\n",
    "    with rio.open(out_img, 'w', **meta) as dst:\n",
    "        dst.write(img_array)"
   ]
  },
  {
   "cell_type": "code",
   "execution_count": 5,
   "metadata": {},
   "outputs": [],
   "source": [
    "generate_masked_image(img_d, img_m, 0, -1, 500)"
   ]
  },
  {
   "cell_type": "code",
   "execution_count": 6,
   "metadata": {},
   "outputs": [],
   "source": [
    "def extract_pixels(imgfile, shapefile, attributes=None, all_touched=True):\n",
    "    lbl_flag = False\n",
    "    with fiona.open(shapefile) as shp_fp:\n",
    "        with rio.open(imgfile, 'r') as img_fp:\n",
    "            feature_vectors, label_vectors = list(), list()\n",
    "            for feature in shp_fp:\n",
    "                if feature[\"geometry\"]['type'] in (\"MultiPolygon\", \"Polygon\"):\n",
    "                    masked_box, _ = rio_mask(\n",
    "                        dataset=img_fp,\n",
    "                        shapes=[feature[\"geometry\"],],\n",
    "                        all_touched=all_touched,\n",
    "                        crop=True,\n",
    "                        filled=False,\n",
    "                        pad=False\n",
    "                    )\n",
    "                    # im = np.moveaxis(masked_box[:3], 0, -1)\n",
    "                    # im = im / np.nanmax(im)\n",
    "                    # plt.imshow(im)\n",
    "                    # plt.show()\n",
    "                    # RasterIO Reads Bands First\n",
    "                    bandwise_pixeldump = list()\n",
    "                    for i in range(masked_box.shape[0]):\n",
    "                        assert (\n",
    "                            masked_box[0].mask == masked_box[i].mask\n",
    "                        ).all(), \"Band-wise Mask Mismatch! <Band {}>\".format(i)\n",
    "                        bandwise_pixeldump.append(masked_box[i].compressed())\n",
    "                    pixel_dump = np.stack(bandwise_pixeldump, axis=-1)\n",
    "                    if attributes and isinstance(attributes, (str, tuple, list)):\n",
    "                        if isinstance(attributes, str):\n",
    "                            attributes = (attributes,)\n",
    "                        bandwise_labeldump = list()\n",
    "                        for attr in attributes:\n",
    "                            assert attr in shp_fp.schema[\n",
    "                                'properties'\n",
    "                            ].keys(), \"Provided Attribute({}) not found in data!\".format(\n",
    "                                attr\n",
    "                            )\n",
    "                            lbl_flag = True\n",
    "                            fill_val = feature['properties'][attr]\n",
    "                            if np.issubdtype(type(fill_val), np.number):\n",
    "                                proxy_array = np.full_like(\n",
    "                                    bandwise_pixeldump[-1],\n",
    "                                    fill_val\n",
    "                                )\n",
    "                            else:\n",
    "                                proxy_array = np.full_like(\n",
    "                                    bandwise_pixeldump[-1],\n",
    "                                    fill_val,\n",
    "                                    dtype=object\n",
    "                                )\n",
    "                            bandwise_labeldump.append(proxy_array)\n",
    "                        label_dump = np.stack(bandwise_labeldump, axis=-1)\n",
    "                        label_vectors.append(label_dump)\n",
    "                    feature_vectors.append(pixel_dump)\n",
    "            if len(feature_vectors) > 0:\n",
    "                feature_vectors = np.concatenate(feature_vectors, axis=0)\n",
    "            else:\n",
    "                feature_vectors = np.array([])\n",
    "            if len(label_vectors) > 0:\n",
    "                assert len(label_vectors) == len(label_vectors), \"Label Vector Count and Feature Vector Count Mismatch!\"\n",
    "                label_vectors = np.concatenate(label_vectors, axis=0)\n",
    "            else:\n",
    "                label_vectors =  np.array([])\n",
    "            if lbl_flag:\n",
    "                return feature_vectors, label_vectors\n",
    "            else:\n",
    "                return feature_vectors"
   ]
  },
  {
   "cell_type": "code",
   "execution_count": 7,
   "metadata": {},
   "outputs": [],
   "source": [
    "x,y = extract_pixels(img_m, shp_path,'CLASS_ID', True)"
   ]
  },
  {
   "cell_type": "code",
   "execution_count": 8,
   "metadata": {},
   "outputs": [
    {
     "data": {
      "text/plain": [
       "((58740, 163), (58740, 1))"
      ]
     },
     "execution_count": 8,
     "metadata": {},
     "output_type": "execute_result"
    }
   ],
   "source": [
    "x.shape, y.shape"
   ]
  },
  {
   "cell_type": "code",
   "execution_count": 9,
   "metadata": {},
   "outputs": [],
   "source": [
    "import sklearn\n",
    "from sklearn.model_selection import train_test_split\n",
    "x_train, x_test, y_train, y_test = train_test_split(x, y, test_size = 0.3,shuffle= True)"
   ]
  },
  {
   "cell_type": "code",
   "execution_count": 10,
   "metadata": {},
   "outputs": [
    {
     "name": "stderr",
     "output_type": "stream",
     "text": [
      "D:\\anaconda\\envs\\sumo\\lib\\site-packages\\ipykernel_launcher.py:3: DataConversionWarning: A column-vector y was passed when a 1d array was expected. Please change the shape of y to (n_samples,), for example using ravel().\n",
      "  This is separate from the ipykernel package so we can avoid doing imports until\n"
     ]
    },
    {
     "data": {
      "text/plain": [
       "RandomForestClassifier(bootstrap=True, ccp_alpha=0.0, class_weight=None,\n",
       "                       criterion='gini', max_depth=None, max_features='auto',\n",
       "                       max_leaf_nodes=None, max_samples=None,\n",
       "                       min_impurity_decrease=0.0, min_impurity_split=None,\n",
       "                       min_samples_leaf=1, min_samples_split=2,\n",
       "                       min_weight_fraction_leaf=0.0, n_estimators=10,\n",
       "                       n_jobs=None, oob_score=False, random_state=0, verbose=0,\n",
       "                       warm_start=False)"
      ]
     },
     "execution_count": 10,
     "metadata": {},
     "output_type": "execute_result"
    }
   ],
   "source": [
    "from sklearn.ensemble import RandomForestClassifier\n",
    "rf = RandomForestClassifier(n_estimators=10,random_state=0)\n",
    "rf.fit(x_train, y_train)"
   ]
  },
  {
   "cell_type": "code",
   "execution_count": 11,
   "metadata": {},
   "outputs": [],
   "source": [
    "y_pred1 = rf.predict(x_test)"
   ]
  },
  {
   "cell_type": "code",
   "execution_count": 12,
   "metadata": {},
   "outputs": [
    {
     "name": "stdout",
     "output_type": "stream",
     "text": [
      "Accuracy of prediction by model is: 98.36567926455567\n"
     ]
    }
   ],
   "source": [
    "from sklearn import metrics\n",
    "print(\"Accuracy of prediction by model is:\",\n",
    "metrics.accuracy_score(y_test, y_pred1)*100)"
   ]
  },
  {
   "cell_type": "code",
   "execution_count": 13,
   "metadata": {},
   "outputs": [],
   "source": [
    "y_prob = rf.predict_proba(x_test)"
   ]
  },
  {
   "cell_type": "code",
   "execution_count": 14,
   "metadata": {},
   "outputs": [],
   "source": [
    "maxm = np.amax(y_prob, axis=-1)\n",
    "y_pred= np.argmax(y_prob, axis=-1)\n",
    "y_pred[maxm < 0.6] = 0"
   ]
  },
  {
   "cell_type": "code",
   "execution_count": 15,
   "metadata": {},
   "outputs": [],
   "source": [
    "y_test = y_test.astype(np.int64)"
   ]
  },
  {
   "cell_type": "code",
   "execution_count": 16,
   "metadata": {},
   "outputs": [
    {
     "name": "stdout",
     "output_type": "stream",
     "text": [
      "Accuracy of the prediction using probabilty matrix is: 97.98547270457382\n"
     ]
    }
   ],
   "source": [
    "from sklearn import metrics\n",
    "print(\"Accuracy of the prediction using probabilty matrix is:\",\n",
    "metrics.accuracy_score(y_test, y_pred)*100)"
   ]
  },
  {
   "cell_type": "code",
   "execution_count": 17,
   "metadata": {},
   "outputs": [],
   "source": [
    "o_meta = None\n",
    "msk = None\n",
    "im_shape = None\n",
    "with rio.open(r'C:\\Users\\Sumana\\Pixxel\\clipped_org.tif') as src:\n",
    "    f_vec = list()\n",
    "    o_meta = src.meta.copy()\n",
    "    m_list = list()\n",
    "    im_shape = meta['count'], meta['height'], meta['width']\n",
    "    for i in range(src.count):\n",
    "        b = src.read(i+1, masked=True)\n",
    "        bpixels = b.compressed()\n",
    "        f_vec.append(bpixels)\n",
    "        m_list.append(b.mask)\n",
    "    assert all(np.all(m == m_list[0]) for m in m_list)\n",
    "    im_dat = np.stack(f_vec, axis=-1)\n",
    "    msk = m_list[0]"
   ]
  },
  {
   "cell_type": "code",
   "execution_count": 18,
   "metadata": {},
   "outputs": [],
   "source": [
    "img1_prob = rf.predict_proba(im_dat)"
   ]
  },
  {
   "cell_type": "code",
   "execution_count": 19,
   "metadata": {},
   "outputs": [],
   "source": [
    "max_p = np.amax(img1_prob, axis=-1)\n",
    "pred_labels = np.argmax(img1_prob, axis=-1)\n",
    "pred_labels[max_p < 0.6] = 0"
   ]
  },
  {
   "cell_type": "code",
   "execution_count": 20,
   "metadata": {},
   "outputs": [],
   "source": [
    "img_pred = np.zeros(im_shape[1:], dtype=np.int32)\n",
    "img_pred = np.ma.masked_array(img_pred, mask=msk, fill_value=-1)\n",
    "img_pred[np.logical_not(msk)] = pred_labels\n",
    "img_pred = img_pred.filled()\n",
    "img_pred = np.stack((img_pred,), axis=0)"
   ]
  },
  {
   "cell_type": "code",
   "execution_count": 21,
   "metadata": {},
   "outputs": [
    {
     "data": {
      "text/plain": [
       "(1, 3481, 1021)"
      ]
     },
     "execution_count": 21,
     "metadata": {},
     "output_type": "execute_result"
    }
   ],
   "source": [
    "img_pred.shape"
   ]
  },
  {
   "cell_type": "code",
   "execution_count": 22,
   "metadata": {},
   "outputs": [],
   "source": [
    "o_meta['count'] = 1\n",
    "o_meta['dtype'] = np.int32\n",
    "o_meta['nodata'] = -1\n",
    "with rio.open(\"classified_org.tif\", 'w', **o_meta) as dst:\n",
    "    dst.write(img_pred)"
   ]
  },
  {
   "cell_type": "code",
   "execution_count": 23,
   "metadata": {},
   "outputs": [
    {
     "data": {
      "text/plain": [
       "<matplotlib.image.AxesImage at 0x159042e1748>"
      ]
     },
     "execution_count": 23,
     "metadata": {},
     "output_type": "execute_result"
    },
    {
     "data": {
      "image/png": "[encoded data removed]",
      "text/plain": [
       "<Figure size 432x288 with 1 Axes>"
      ]
     },
     "metadata": {
      "needs_background": "light"
     },
     "output_type": "display_data"
    }
   ],
   "source": [
    "plt.imshow(img_pred[0])"
   ]
  },
  {
   "cell_type": "code",
   "execution_count": 24,
   "metadata": {},
   "outputs": [
    {
     "data": {
      "text/plain": [
       "(1, 3481, 1021)"
      ]
     },
     "execution_count": 24,
     "metadata": {},
     "output_type": "execute_result"
    }
   ],
   "source": [
    "img_pred.shape"
   ]
  },
  {
   "cell_type": "code",
   "execution_count": 25,
   "metadata": {},
   "outputs": [
    {
     "data": {
      "text/plain": [
       "(3481, 1021)"
      ]
     },
     "execution_count": 25,
     "metadata": {},
     "output_type": "execute_result"
    }
   ],
   "source": [
    "predicted = img_pred[0,:,:]\n",
    "predicted.shape"
   ]
  },
  {
   "cell_type": "code",
   "execution_count": 26,
   "metadata": {},
   "outputs": [
    {
     "data": {
      "text/plain": [
       "<matplotlib.image.AxesImage at 0x15904390a48>"
      ]
     },
     "execution_count": 26,
     "metadata": {},
     "output_type": "execute_result"
    },
    {
     "data": {
      "image/png": "[encoded data removed]",
      "text/plain": [
       "<Figure size 432x288 with 1 Axes>"
      ]
     },
     "metadata": {
      "needs_background": "light"
     },
     "output_type": "display_data"
    }
   ],
   "source": [
    "plt.imshow(predicted)"
   ]
  },
  {
   "cell_type": "code",
   "execution_count": 27,
   "metadata": {},
   "outputs": [],
   "source": [
    "veg = []\n",
    "water = []\n",
    "#Classification of various features based on NDVI values\n",
    "for i in range(predicted.shape[0]):\n",
    "    for j in range(predicted.shape[1]):\n",
    "        if (predicted[i,j] == 0):\n",
    "            veg.append(predicted[i,j])\n",
    "            predicted[i,j] = 1\n",
    "        elif (predicted[i,j] == 1):\n",
    "            water.append(predicted[i,j])\n",
    "            predicted[i,j]=2\n",
    "                     \n",
    "        else:\n",
    "            predicted[i,j]=0"
   ]
  },
  {
   "cell_type": "code",
   "execution_count": 28,
   "metadata": {},
   "outputs": [
    {
     "data": {
      "text/plain": [
       "<matplotlib.image.AxesImage at 0x15974095b88>"
      ]
     },
     "execution_count": 28,
     "metadata": {},
     "output_type": "execute_result"
    },
    {
     "data": {
      "image/png": "[encoded data removed]",
      "text/plain": [
       "<Figure size 432x288 with 1 Axes>"
      ]
     },
     "metadata": {
      "needs_background": "light"
     },
     "output_type": "display_data"
    }
   ],
   "source": [
    "plt.imshow(predicted)"
   ]
  },
  {
   "cell_type": "code",
   "execution_count": 29,
   "metadata": {},
   "outputs": [],
   "source": [
    "from osgeo import gdal\n",
    "i = gdal.Open(r'D:\\pixxel\\EO1H1480472016328110PZ_1GST\\ndvi\\ndvi_tr.tiff.tif')\n",
    "ndvi = i.ReadAsArray()"
   ]
  },
  {
   "cell_type": "code",
   "execution_count": 30,
   "metadata": {},
   "outputs": [],
   "source": [
    "veg1 = []\n",
    "water1 = []\n",
    "#Classification of various features based on NDVI values\n",
    "for i in range(ndvi.shape[0]):\n",
    "    for j in range(ndvi.shape[1]):\n",
    "        if (ndvi[i,j] > 0.2):\n",
    "            veg1.append(ndvi[i,j])\n",
    "            ndvi[i,j] = 1           \n",
    "\n",
    "        elif (ndvi[i,j]>(-1) and ndvi[i,j]< (-0.1)):\n",
    "            water1.append(ndvi[i,j])\n",
    "            ndvi[i,j]=2\n",
    "            \n",
    "        else:\n",
    "            ndvi[i,j]=0\n",
    "         "
   ]
  },
  {
   "cell_type": "code",
   "execution_count": 31,
   "metadata": {},
   "outputs": [
    {
     "data": {
      "text/plain": [
       "<matplotlib.image.AxesImage at 0x159789f9e48>"
      ]
     },
     "execution_count": 31,
     "metadata": {},
     "output_type": "execute_result"
    },
    {
     "data": {
      "image/png": "[encoded data removed]",
      "text/plain": [
       "<Figure size 432x288 with 1 Axes>"
      ]
     },
     "metadata": {
      "needs_background": "light"
     },
     "output_type": "display_data"
    }
   ],
   "source": [
    "plt.imshow(ndvi)"
   ]
  },
  {
   "cell_type": "code",
   "execution_count": 32,
   "metadata": {},
   "outputs": [
    {
     "data": {
      "text/plain": [
       "array([[0, 0, 0, ..., 0, 0, 0],\n",
       "       [0, 0, 0, ..., 0, 0, 0],\n",
       "       [0, 0, 0, ..., 0, 0, 0],\n",
       "       ...,\n",
       "       [0, 0, 0, ..., 0, 0, 0],\n",
       "       [0, 0, 0, ..., 0, 0, 0],\n",
       "       [0, 0, 0, ..., 0, 0, 0]])"
      ]
     },
     "execution_count": 32,
     "metadata": {},
     "output_type": "execute_result"
    }
   ],
   "source": [
    "ndvi= ndvi.astype(np.int32)\n",
    "ndvi"
   ]
  },
  {
   "cell_type": "code",
   "execution_count": 33,
   "metadata": {},
   "outputs": [],
   "source": [
    "from sklearn.metrics import confusion_matrix\n",
    "cm=confusion_matrix(ndvi.ravel(), predicted.ravel())"
   ]
  },
  {
   "cell_type": "code",
   "execution_count": 34,
   "metadata": {},
   "outputs": [
    {
     "data": {
      "text/plain": [
       "array([[2780430,      14,     395],\n",
       "       [ 218246,  222018,       0],\n",
       "       [  17636,       0,  315362]], dtype=int64)"
      ]
     },
     "execution_count": 34,
     "metadata": {},
     "output_type": "execute_result"
    }
   ],
   "source": [
    "cm"
   ]
  },
  {
   "cell_type": "code",
   "execution_count": 35,
   "metadata": {},
   "outputs": [
    {
     "name": "stdout",
     "output_type": "stream",
     "text": [
      "Percentage of Vegetation correctly classified 50.428379336034745\n",
      "Percentage of Water correctly classified 94.7038720953279\n"
     ]
    }
   ],
   "source": [
    "print('Percentage of Vegetation correctly classified', (cm[1,1]/(cm[1,0]+cm[1,1]+cm[1,2])*100))\n",
    "print('Percentage of Water correctly classified', (cm[2,2]/(cm[2,0]+cm[2,2]+cm[2,1])*100))"
   ]
  }
 ],
 "metadata": {
  "kernelspec": {
   "display_name": "Python 3",
   "language": "python",
   "name": "python3"
  },
  "language_info": {
   "codemirror_mode": {
    "name": "ipython",
    "version": 3
   },
   "file_extension": ".py",
   "mimetype": "text/x-python",
   "name": "python",
   "nbconvert_exporter": "python",
   "pygments_lexer": "ipython3",
   "version": "3.7.6"
  }
 },
 "nbformat": 4,
 "nbformat_minor": 4
}
